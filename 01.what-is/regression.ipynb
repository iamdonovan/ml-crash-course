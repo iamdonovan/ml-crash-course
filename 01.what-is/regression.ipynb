{
 "cells": [
  {
   "cell_type": "markdown",
   "id": "f64342b2-1033-4ec0-b67d-30c2ef9c52f3",
   "metadata": {},
   "source": [
    "# 01. What is machine learning?\n",
    "\n",
    "- linear regression example\n",
    "    - plot the data\n",
    "    - simple regression\n",
    " \n",
    "- training, loss functions, learning rate, batch size, etc.\n"
   ]
  },
  {
   "cell_type": "code",
   "execution_count": 1,
   "id": "72eb92e3-ade1-4dca-9943-1385cdab061e",
   "metadata": {},
   "outputs": [],
   "source": [
    "%matplotlib inline\n",
    "from sklearn import linear_model\n",
    "import matplotlib.pyplot as plt"
   ]
  },
  {
   "cell_type": "code",
   "execution_count": null,
   "id": "b73560d3-fc5f-4088-84d9-a7d0db018d2a",
   "metadata": {},
   "outputs": [],
   "source": []
  }
 ],
 "metadata": {
  "kernelspec": {
   "display_name": "Python 3 (ipykernel)",
   "language": "python",
   "name": "python3"
  },
  "language_info": {
   "codemirror_mode": {
    "name": "ipython",
    "version": 3
   },
   "file_extension": ".py",
   "mimetype": "text/x-python",
   "name": "python",
   "nbconvert_exporter": "python",
   "pygments_lexer": "ipython3",
   "version": "3.11.5"
  }
 },
 "nbformat": 4,
 "nbformat_minor": 5
}
