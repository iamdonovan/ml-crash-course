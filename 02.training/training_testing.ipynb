{
 "cells": [
  {
   "cell_type": "markdown",
   "id": "1571569d-321c-4138-8e9c-9782e65bcccc",
   "metadata": {},
   "source": [
    "# training, testing, and validation\n",
    "\n",
    "- labelling\n",
    "    - how to create labels\n",
    "    - need for numeric labels (converting between text, numbers)\n",
    "- augmentation (?)\n",
    "- splitting into training, testing, validation partitions\n",
    "- bias (different from *bias* introduced previously)\n",
    "- overfitting and underfitting\n",
    "- regularization?\n",
    "- support vector machine\n"
   ]
  },
  {
   "cell_type": "code",
   "execution_count": null,
   "id": "575f38fa-7c16-485c-97de-c5551336cee4",
   "metadata": {},
   "outputs": [],
   "source": [
    "import pandas as pd\n",
    "import numpy as np\n",
    "from sklearn import svm"
   ]
  }
 ],
 "metadata": {
  "kernelspec": {
   "display_name": "Python 3 (ipykernel)",
   "language": "python",
   "name": "python3"
  },
  "language_info": {
   "codemirror_mode": {
    "name": "ipython",
    "version": 3
   },
   "file_extension": ".py",
   "mimetype": "text/x-python",
   "name": "python",
   "nbconvert_exporter": "python",
   "pygments_lexer": "ipython3",
   "version": "3.11.5"
  }
 },
 "nbformat": 4,
 "nbformat_minor": 5
}
