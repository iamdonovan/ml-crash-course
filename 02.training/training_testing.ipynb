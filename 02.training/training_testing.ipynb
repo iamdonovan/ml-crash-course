{
 "cells": [
  {
   "cell_type": "markdown",
   "id": "1571569d-321c-4138-8e9c-9782e65bcccc",
   "metadata": {},
   "source": [
    "# training, testing, and validation\n",
    "\n",
    "- standarization (similar to normalization seen previously)\n",
    "- splitting into training, testing, validation partitions\n",
    "- bias (different from *bias* introduced previously)\n",
    "- support vector machine\n",
    "    - kernel functions, the \"kernel trick\"\n",
    "- overfitting/underfitting + generalization\n",
    " \n",
    "Examples:\n",
    "\n",
    "- https://scikit-learn.org/stable/auto_examples/exercises/plot_iris_exercise.html#sphx-glr-auto-examples-exercises-plot-iris-exercise-py\n",
    "- https://scikit-learn.org/stable/auto_examples/svm/plot_svm_kernels.html#sphx-glr-auto-examples-svm-plot-svm-kernels-py\n",
    "\n",
    "## data\n",
    "\n",
    "Exercise: using Met Office data, classify each station as being \"rainy\" or \"dry\" based on average rainfall. Then use tmax, sun to classify cities."
   ]
  },
  {
   "cell_type": "code",
   "execution_count": null,
   "id": "575f38fa-7c16-485c-97de-c5551336cee4",
   "metadata": {},
   "outputs": [],
   "source": [
    "import pandas as pd\n",
    "import numpy as np\n",
    "from sklearn import linear_model, preprocessing, svm\n",
    "from sklearn.inspection import DecisionBoundaryDisplay"
   ]
  },
  {
   "cell_type": "code",
   "execution_count": null,
   "id": "4f0cefe6-b6c5-4639-a4a5-82e329af5863",
   "metadata": {},
   "outputs": [],
   "source": [
    "data = pd.read_csv('data/station_averages.csv')"
   ]
  }
 ],
 "metadata": {
  "kernelspec": {
   "display_name": "Python 3 (ipykernel)",
   "language": "python",
   "name": "python3"
  },
  "language_info": {
   "codemirror_mode": {
    "name": "ipython",
    "version": 3
   },
   "file_extension": ".py",
   "mimetype": "text/x-python",
   "name": "python",
   "nbconvert_exporter": "python",
   "pygments_lexer": "ipython3",
   "version": "3.12.0"
  }
 },
 "nbformat": 4,
 "nbformat_minor": 5
}
