{
 "cells": [
  {
   "cell_type": "markdown",
   "id": "1d3adb1a-fdcd-4a2b-b123-19c460138937",
   "metadata": {},
   "source": [
    "# measuring model performance\n",
    "\n",
    "- confusion matrix\n",
    "- precision/recall\n",
    "- receiver operating characteristic\n",
    "- overfitting/generalization (again)"
   ]
  },
  {
   "cell_type": "code",
   "execution_count": null,
   "id": "6506e65d-4885-457f-b277-ecd1aca3ef28",
   "metadata": {},
   "outputs": [],
   "source": []
  }
 ],
 "metadata": {
  "kernelspec": {
   "display_name": "Python 3 (ipykernel)",
   "language": "python",
   "name": "python3"
  },
  "language_info": {
   "codemirror_mode": {
    "name": "ipython",
    "version": 3
   },
   "file_extension": ".py",
   "mimetype": "text/x-python",
   "name": "python",
   "nbconvert_exporter": "python",
   "pygments_lexer": "ipython3",
   "version": "3.11.5"
  }
 },
 "nbformat": 4,
 "nbformat_minor": 5
}
