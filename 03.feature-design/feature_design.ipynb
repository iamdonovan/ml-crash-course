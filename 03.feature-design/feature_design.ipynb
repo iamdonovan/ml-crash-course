{
 "cells": [
  {
   "cell_type": "markdown",
   "id": "14704c38-27c9-4c57-9b27-c48c3675e0b3",
   "metadata": {},
   "source": [
    "# feature design\n",
    "    \n",
    "- labelling\n",
    "    - how to create labels\n",
    "    - need for numeric labels (converting between text, numbers)\n",
    "- augmentation\n",
    "- biases\n",
    "- encoding features\n",
    "- feature crosses"
   ]
  },
  {
   "cell_type": "code",
   "execution_count": null,
   "id": "59f2df1b-b7fe-48ea-83b5-b40b38b3a902",
   "metadata": {},
   "outputs": [],
   "source": [
    "import pandas as pd\n",
    "import numpy as np\n",
    "import matplotlib.pyplot as plt\n",
    "from sklearn import model_selection, linear_model"
   ]
  }
 ],
 "metadata": {
  "kernelspec": {
   "display_name": "Python 3 (ipykernel)",
   "language": "python",
   "name": "python3"
  },
  "language_info": {
   "codemirror_mode": {
    "name": "ipython",
    "version": 3
   },
   "file_extension": ".py",
   "mimetype": "text/x-python",
   "name": "python",
   "nbconvert_exporter": "python",
   "pygments_lexer": "ipython3",
   "version": "3.12.0"
  }
 },
 "nbformat": 4,
 "nbformat_minor": 5
}
